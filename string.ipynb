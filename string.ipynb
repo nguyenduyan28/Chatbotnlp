{
 "cells": [
  {
   "cell_type": "code",
   "execution_count": 5,
   "id": "82cba73e-ca9d-421f-a1b7-d27c865ac729",
   "metadata": {},
   "outputs": [
    {
     "name": "stdout",
     "output_type": "stream",
     "text": [
      "Hello I'm Long\n",
      "hello i'm short\n",
      "b'hello'\n",
      "hello \\n\\t hi\n",
      "hello \\n\\t hiHello I'm Long\n"
     ]
    }
   ],
   "source": [
    "long_string = '''Hello I'm Long'''\n",
    "short_string = \"hello i'm short\"\n",
    "print(long_string)\n",
    "print(short_string)\n",
    "byte_string = b'hello'\n",
    "print(byte_string)\n",
    "raw_string = r'hello \\n\\t hi'\n",
    "print(raw_string)\n",
    "concat_string = raw_string + long_string\n",
    "print(concat_string) # cannnot concat raw_string and byte_string"
   ]
  },
  {
   "cell_type": "code",
   "execution_count": 6,
   "id": "739da54d-7623-4840-941d-ca205588e925",
   "metadata": {},
   "outputs": [
    {
     "name": "stdout",
     "output_type": "stream",
     "text": [
      "Hello I'm Long \n",
      "and I has \n",
      "space to do \n",
      "that.\n",
      "\n"
     ]
    }
   ],
   "source": [
    "# Multiline string\n",
    "\n",
    "multiline_string = '''Hello I'm Long \n",
    "and I has \n",
    "space to do \n",
    "that.\n",
    "'''\n",
    "print(multiline_string)"
   ]
  },
  {
   "cell_type": "code",
   "execution_count": 10,
   "id": "453bf374-4382-4460-a50a-abf86323c6af",
   "metadata": {},
   "outputs": [
    {
     "name": "stdout",
     "output_type": "stream",
     "text": [
      "Hèllo!\n",
      "I love Pizza 🍕! Shall we book a cab 🚕 to get pizza?\n",
      "Hèllo!\n",
      "I love Pizza 🍕! Shall we book a cab 🚕 to get pizza?\n"
     ]
    }
   ],
   "source": [
    "# unicode\n",
    "string_with_unicode = 'H\\u00e8llo!'\n",
    "print(string_with_unicode)\n",
    "\n",
    "more_unicode = 'I love Pizza 🍕! Shall we book a cab 🚕 to get pizza?' \n",
    "print(more_unicode)\n",
    "print(string_with_unicode + '\\n' + more_unicode)"
   ]
  },
  {
   "cell_type": "code",
   "execution_count": 16,
   "id": "ba82b652-62f8-4328-ab8a-b7a15590813d",
   "metadata": {},
   "outputs": [
    {
     "name": "stdout",
     "output_type": "stream",
     "text": [
      "Hello Xin Chao \n",
      "Hello Xin Chao  hahaa Hello Xin Chao  hahaa Hello Xin Chao  hahaa Hello Xin Chao  hahaa Hello Xin Chao  hahaa \n"
     ]
    }
   ],
   "source": [
    "# basic operation\n",
    "\n",
    "concat_string = 'Hello ' + 'Xin Chao '\n",
    "print(concat_string)\n",
    "print((concat_string + ' hahaa ') * 5)"
   ]
  },
  {
   "cell_type": "code",
   "execution_count": 42,
   "id": "1cfcbe17-7733-46b6-b69c-06a555cfa8cd",
   "metadata": {},
   "outputs": [
    {
     "name": "stdout",
     "output_type": "stream",
     "text": [
      "Python is trash\n",
      "PYTHON IS TRASH\n",
      "Python Is Trash\n",
      "NLP is trash\n",
      "True\n",
      "False\n",
      "['p', 'y', 't', 'h', 'o', 'n', ' ', 'i', 's', ' ', 't', 'r', 'a', 's', 'h']\n",
      "False\n",
      "False\n",
      "False\n",
      "True\n",
      "['python', 'is', 'trash']\n",
      "python is trash\n"
     ]
    }
   ],
   "source": [
    "# method\n",
    "s = 'python is trash'\n",
    "s1 = 'python,is,trash'\n",
    "s2 = '  fuck space     '\n",
    "num = '123'\n",
    "print(s.capitalize())\n",
    "print(s.upper())\n",
    "print(s.title())\n",
    "print(s.replace('python', 'NLP'))\n",
    "print(num.isdecimal())\n",
    "print(s.isdecimal())\n",
    "print(list(s))\n",
    "print(s.isalpha())\n",
    "print(num.isalpha())\n",
    "print(s.isalnum())\n",
    "print((''.join(s.split()) + num).isalnum())\n",
    "print(s1.split(','))\n",
    "print(' '.join(s1.split(',')))"
   ]
  }
 ],
 "metadata": {
  "kernelspec": {
   "display_name": "Python 3 (ipykernel)",
   "language": "python",
   "name": "python3"
  },
  "language_info": {
   "codemirror_mode": {
    "name": "ipython",
    "version": 3
   },
   "file_extension": ".py",
   "mimetype": "text/x-python",
   "name": "python",
   "nbconvert_exporter": "python",
   "pygments_lexer": "ipython3",
   "version": "3.12.4"
  }
 },
 "nbformat": 4,
 "nbformat_minor": 5
}
